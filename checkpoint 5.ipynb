{
 "cells": [
  {
   "cell_type": "code",
   "execution_count": 91,
   "metadata": {},
   "outputs": [
    {
     "name": "stdout",
     "output_type": "stream",
     "text": [
      "[[7 7 0 6 8 3 7 9 9 4]]\n",
      "[7, 7, 0, 6, 8, 3, 7, 9, 9, 4]\n"
     ]
    }
   ],
   "source": [
    "import numpy as np\n",
    "d1=[]\n",
    "A=np.random.randint(0,10,(1,10)) #I chose the numbers of arrays to be 10 \n",
    "print(A)\n",
    "for i in range(10):\n",
    "    d1.insert(i,A[0,i])\n",
    "    \n",
    "print(d1)"
   ]
  },
  {
   "cell_type": "code",
   "execution_count": 50,
   "metadata": {
    "scrolled": true
   },
   "outputs": [
    {
     "name": "stdout",
     "output_type": "stream",
     "text": [
      "[[9 4 6]\n",
      " [0 5 1]\n",
      " [7 9 7]]\n",
      "21\n"
     ]
    }
   ],
   "source": [
    "import numpy as np\n",
    "A=np.random.randint(0,10,(3,3))\n",
    "print(A)\n",
    "\n",
    "x=A[0,0]+ A[1,1] +A[2,2]\n",
    "print(x)\n",
    "\n"
   ]
  },
  {
   "cell_type": "code",
   "execution_count": 66,
   "metadata": {},
   "outputs": [
    {
     "name": "stdout",
     "output_type": "stream",
     "text": [
      "[[0 3 9 3 9 9 0 5 6 5]]\n",
      "9\n",
      "9\n",
      "9\n",
      "5\n",
      "6\n",
      "5\n"
     ]
    }
   ],
   "source": [
    "import numpy as np\n",
    "x=3\n",
    "A=np.random.randint(0,10,(1,10)) #I chose the numbers of arrays to be 10 \n",
    "print(A)\n",
    "for i in range (10):\n",
    "    if A[0,i]>x:\n",
    "        print(A[0,i])"
   ]
  },
  {
   "cell_type": "code",
   "execution_count": 85,
   "metadata": {},
   "outputs": [
    {
     "name": "stdout",
     "output_type": "stream",
     "text": [
      "[[4 5 0 6 3 2 4 7 2 8]]\n",
      "[[8 3 2 9 3 1 7 3 9 1]]\n",
      "[[12  8  2 15  6  3 11 10 11  9]]\n"
     ]
    }
   ],
   "source": [
    "import numpy as np\n",
    "A=np.random.randint(0,10,(1,10))\n",
    "B=np.random.randint(0,10,(1,10))\n",
    "C=np.zeros(10)\n",
    "print(A)\n",
    "print(B)\n",
    "\n",
    "for i in range (10):\n",
    "    C=A+B\n",
    "    \n",
    "print(C)    "
   ]
  },
  {
   "cell_type": "code",
   "execution_count": 95,
   "metadata": {},
   "outputs": [
    {
     "name": "stdout",
     "output_type": "stream",
     "text": [
      "[[9 7 1 1 5 6 6 6 4 6]]\n",
      "0.6\n",
      "[[8.4 6.4 0.4 0.4 4.4 5.4 5.4 5.4 3.4 5.4]]\n"
     ]
    }
   ],
   "source": [
    "import numpy as np\n",
    "A=np.random.randint(0,10,(1,10))\n",
    "B=np.zeros(10)\n",
    "print(A)\n",
    "for i in range (10):\n",
    "    mean=A[0,i]/10\n",
    "print(mean)    \n",
    "for i in range (10):\n",
    "    B=A-mean\n",
    "print(B)"
   ]
  },
  {
   "cell_type": "code",
   "execution_count": null,
   "metadata": {},
   "outputs": [],
   "source": []
  },
  {
   "cell_type": "code",
   "execution_count": null,
   "metadata": {},
   "outputs": [],
   "source": []
  }
 ],
 "metadata": {
  "kernelspec": {
   "display_name": "Python 3",
   "language": "python",
   "name": "python3"
  },
  "language_info": {
   "codemirror_mode": {
    "name": "ipython",
    "version": 3
   },
   "file_extension": ".py",
   "mimetype": "text/x-python",
   "name": "python",
   "nbconvert_exporter": "python",
   "pygments_lexer": "ipython3",
   "version": "3.7.6"
  }
 },
 "nbformat": 4,
 "nbformat_minor": 4
}
